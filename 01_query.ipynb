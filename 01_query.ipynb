{
 "cells": [
  {
   "cell_type": "markdown",
   "source": [
    "# 1. Queries\n",
    "\n",
    "This is the first in a series of lessons about working with astronomical data.\n",
    "\n",
    "As a running example, we will replicate parts of the analysis in a recent paper, \"[Off the beaten path: Gaia reveals GD-1 stars outside of the main stream](https://arxiv.org/abs/1805.00425)\" by Adrian Price-Whelan and Ana Bonaca."
   ],
   "metadata": {}
  },
  {
   "cell_type": "markdown",
   "source": [
    "## Outline\n",
    "\n",
    "This lesson demonstrates the steps for selecting and downloading data from the Gaia Database:\n",
    "\n",
    "1. First we'll make a connection to the Gaia server,\n",
    "\n",
    "2. We will explore information about the database and the tables it contains,\n",
    "\n",
    "3. We will write a query and send it to the server, and finally\n",
    "\n",
    "4. We will download the response from the server.\n"
   ],
   "metadata": {}
  },
  {
   "cell_type": "markdown",
   "source": [
    "## Query Language\n",
    "\n",
    "In order to select data from a database, you have to compose a query, which is a program written in a \"query language\".\n",
    "The query language we'll use is ADQL, which stands for \"Astronomical Data Query Language\".\n",
    "\n",
    "ADQL is a dialect of [SQL](https://en.wikipedia.org/wiki/SQL) (Structured Query Language), which is by far the most commonly used query language.  Almost everything you will learn about ADQL also works in SQL.\n",
    "\n",
    "[The reference manual for ADQL is here](http://www.ivoa.net/documents/ADQL/20180112/PR-ADQL-2.1-20180112.html).\n",
    "But you might find it easier to learn from [this ADQL Cookbook](https://www.gaia.ac.uk/data/gaia-data-release-1/adql-cookbook)."
   ],
   "metadata": {}
  },
  {
   "cell_type": "markdown",
   "source": [
    "## Using Jupyter\n",
    "\n",
    "If you have not worked with Jupyter notebooks before, you might start with [the tutorial on from Jupyter.org called \"Try Classic Notebook\"](https://jupyter.org/try), or [this tutorial from DataQuest](https://www.dataquest.io/blog/jupyter-notebook-tutorial/).\n",
    "\n",
    "There are two environments you can use to write and run notebooks: \n",
    "\n",
    "* \"Jupyter Notebook\" is the original, and\n",
    "\n",
    "* \"Jupyter Lab\" is a newer environment with more features.\n",
    "\n",
    "For these lessons, you can use either one."
   ],
   "metadata": {}
  },
  {
   "cell_type": "markdown",
   "source": [
    "If you are too impatient for the tutorials, here are the most important things to know:\n",
    "\n",
    "1. Notebooks are made up of code cells and text cells (and a few other less common kinds).  Code cells contain code; text cells, like this one, contain explanatory text written in [Markdown](https://www.markdownguide.org/).\n",
    "\n",
    "2. To run a code cell, click the cell to select it and press Shift-Enter.  The output of the code should appear below the cell.\n",
    "\n",
    "3. In general, notebooks only run correctly if you run every code cell in order from top to bottom.  If you run cells out of order, you are likely to get errors.\n",
    "\n",
    "4. You can modify existing cells, but then you have to run them again to see the effect.\n",
    "\n",
    "5. You can add new cells, but again, you have to be careful about the order you run them in.\n",
    "\n",
    "6. If you have added or modified cells and the behavior of the notebook seems strange, you can restart the \"kernel\", which clears all of the variables and functions you have defined, and run the cells again from the beginning.\n",
    "\n",
    "* If you are using Jupyter notebook, open the `Kernel` menu and select \"Restart and Run All\".\n",
    "\n",
    "* In Jupyter Lab, open the `Kernel` menu and select \"Restart Kernel and Run All Cells\"\n",
    "\n",
    "* In Colab, open the `Runtime` menu and select \"Restart and run all\"\n",
    "\n",
    "Before you go on, you might want to explore the other menus and the toolbar to see what else you can do."
   ],
   "metadata": {}
  },
  {
   "cell_type": "markdown",
   "source": [
    "## Installing libraries\n",
    "\n",
    "If you are running this notebook on Colab, you should run the following cell to install the libraries we'll need.\n",
    "\n",
    "If you are running this notebook on your own computer, you might have to install these libraries yourself."
   ],
   "metadata": {
    "tags": []
   }
  },
  {
   "cell_type": "code",
   "execution_count": 1,
   "source": [
    "# If we're running on Colab, install libraries\r\n",
    "\r\n",
    "import sys\r\n",
    "IN_COLAB = 'google.colab' in sys.modules\r\n",
    "\r\n",
    "if IN_COLAB:\r\n",
    "    !pip install astroquery"
   ],
   "outputs": [],
   "metadata": {
    "tags": []
   }
  },
  {
   "cell_type": "markdown",
   "source": [
    "## Connecting to Gaia\n",
    "\n",
    "The library we'll use to get Gaia data is [Astroquery](https://astroquery.readthedocs.io/en/latest/).\n",
    "Astroquery provides `Gaia`, which is an [object that represents a connection to the Gaia database](https://astroquery.readthedocs.io/en/latest/gaia/gaia.html).\n",
    "\n",
    "We can connect to the Gaia database like this:"
   ],
   "metadata": {}
  },
  {
   "cell_type": "code",
   "execution_count": 1,
   "source": [
    "from astroquery.gaia import Gaia"
   ],
   "outputs": [],
   "metadata": {}
  },
  {
   "cell_type": "markdown",
   "source": [
    "This import statement creates a [TAP+](http://www.ivoa.net/documents/TAP/) connection; TAP stands for \"Table Access Protocol\", which is a network protocol for sending queries to the database and getting back the results.  "
   ],
   "metadata": {}
  },
  {
   "cell_type": "markdown",
   "source": [
    "## Databases and Tables\n",
    "\n",
    "What is a database, anyway?  Most generally, it can be any collection of data, but when we are talking about ADQL or SQL:\n",
    "\n",
    "* A database is a collection of one or more named tables.\n",
    "\n",
    "* Each table is a 2-D array with one or more named columns of data.\n",
    "\n",
    "We can use `Gaia.load_tables` to get the names of the tables in the Gaia database.  With the option `only_names=True`, it loads information about the tables, called \"metadata\", not the data itself."
   ],
   "metadata": {}
  },
  {
   "cell_type": "code",
   "execution_count": 2,
   "source": [
    "tables = Gaia.load_tables(only_names=True)"
   ],
   "outputs": [
    {
     "output_type": "stream",
     "name": "stdout",
     "text": [
      "INFO: Retrieving tables... [astroquery.utils.tap.core]\n",
      "INFO: Parsing tables... [astroquery.utils.tap.core]\n",
      "INFO: Done. [astroquery.utils.tap.core]\n"
     ]
    }
   ],
   "metadata": {}
  },
  {
   "cell_type": "markdown",
   "source": [
    "The following `for` loop prints the names of the tables."
   ],
   "metadata": {}
  },
  {
   "cell_type": "code",
   "execution_count": 3,
   "source": [
    "for table in tables:\r\n",
    "    print(table.name)"
   ],
   "outputs": [
    {
     "output_type": "stream",
     "name": "stdout",
     "text": [
      "external.apassdr9\n",
      "external.gaiadr2_geometric_distance\n",
      "external.gaiaedr3_distance\n",
      "external.galex_ais\n",
      "external.ravedr5_com\n",
      "external.ravedr5_dr5\n",
      "external.ravedr5_gra\n",
      "external.ravedr5_on\n",
      "external.sdssdr13_photoprimary\n",
      "external.skymapperdr1_master\n",
      "external.skymapperdr2_master\n",
      "external.tmass_xsc\n",
      "gaiadr1.aux_qso_icrf2_match\n",
      "gaiadr1.ext_phot_zero_point\n",
      "gaiadr1.allwise_best_neighbour\n",
      "gaiadr1.allwise_neighbourhood\n",
      "gaiadr1.gsc23_best_neighbour\n",
      "gaiadr1.gsc23_neighbourhood\n",
      "gaiadr1.ppmxl_best_neighbour\n",
      "gaiadr1.ppmxl_neighbourhood\n",
      "gaiadr1.sdss_dr9_best_neighbour\n",
      "gaiadr1.sdss_dr9_neighbourhood\n",
      "gaiadr1.tmass_best_neighbour\n",
      "gaiadr1.tmass_neighbourhood\n",
      "gaiadr1.ucac4_best_neighbour\n",
      "gaiadr1.ucac4_neighbourhood\n",
      "gaiadr1.urat1_best_neighbour\n",
      "gaiadr1.urat1_neighbourhood\n",
      "gaiadr1.cepheid\n",
      "gaiadr1.phot_variable_time_series_gfov\n",
      "gaiadr1.phot_variable_time_series_gfov_statistical_parameters\n",
      "gaiadr1.rrlyrae\n",
      "gaiadr1.variable_summary\n",
      "gaiadr1.allwise_original_valid\n",
      "gaiadr1.gsc23_original_valid\n",
      "gaiadr1.ppmxl_original_valid\n",
      "gaiadr1.sdssdr9_original_valid\n",
      "gaiadr1.tmass_original_valid\n",
      "gaiadr1.ucac4_original_valid\n",
      "gaiadr1.urat1_original_valid\n",
      "gaiadr1.gaia_source\n",
      "gaiadr1.tgas_source\n",
      "gaiadr2.aux_allwise_agn_gdr2_cross_id\n",
      "gaiadr2.aux_iers_gdr2_cross_id\n",
      "gaiadr2.aux_sso_orbit_residuals\n",
      "gaiadr2.aux_sso_orbits\n",
      "gaiadr2.dr1_neighbourhood\n",
      "gaiadr2.allwise_best_neighbour\n",
      "gaiadr2.allwise_neighbourhood\n",
      "gaiadr2.apassdr9_best_neighbour\n",
      "gaiadr2.apassdr9_neighbourhood\n",
      "gaiadr2.gsc23_best_neighbour\n",
      "gaiadr2.gsc23_neighbourhood\n",
      "gaiadr2.hipparcos2_best_neighbour\n",
      "gaiadr2.hipparcos2_neighbourhood\n",
      "gaiadr2.panstarrs1_best_neighbour\n",
      "gaiadr2.panstarrs1_neighbourhood\n",
      "gaiadr2.ppmxl_best_neighbour\n",
      "gaiadr2.ppmxl_neighbourhood\n",
      "gaiadr2.ravedr5_best_neighbour\n",
      "gaiadr2.ravedr5_neighbourhood\n",
      "gaiadr2.sdssdr9_best_neighbour\n",
      "gaiadr2.sdssdr9_neighbourhood\n",
      "gaiadr2.tmass_best_neighbour\n",
      "gaiadr2.tmass_neighbourhood\n",
      "gaiadr2.tycho2_best_neighbour\n",
      "gaiadr2.tycho2_neighbourhood\n",
      "gaiadr2.urat1_best_neighbour\n",
      "gaiadr2.urat1_neighbourhood\n",
      "gaiadr2.sso_observation\n",
      "gaiadr2.sso_source\n",
      "gaiadr2.vari_cepheid\n",
      "gaiadr2.vari_classifier_class_definition\n",
      "gaiadr2.vari_classifier_definition\n",
      "gaiadr2.vari_classifier_result\n",
      "gaiadr2.vari_long_period_variable\n",
      "gaiadr2.vari_rotation_modulation\n",
      "gaiadr2.vari_rrlyrae\n",
      "gaiadr2.vari_short_timescale\n",
      "gaiadr2.vari_time_series_statistics\n",
      "gaiadr2.panstarrs1_original_valid\n",
      "gaiadr2.gaia_source\n",
      "gaiadr2.ruwe\n",
      "gaiaedr3.gaia_source\n",
      "gaiaedr3.agn_cross_id\n",
      "gaiaedr3.commanded_scan_law\n",
      "gaiaedr3.dr2_neighbourhood\n",
      "gaiaedr3.frame_rotator_source\n",
      "gaiaedr3.allwise_best_neighbour\n",
      "gaiaedr3.allwise_neighbourhood\n",
      "gaiaedr3.apassdr9_best_neighbour\n",
      "gaiaedr3.apassdr9_join\n",
      "gaiaedr3.apassdr9_neighbourhood\n",
      "gaiaedr3.gsc23_best_neighbour\n",
      "gaiaedr3.gsc23_join\n",
      "gaiaedr3.gsc23_neighbourhood\n",
      "gaiaedr3.hipparcos2_best_neighbour\n",
      "gaiaedr3.hipparcos2_neighbourhood\n",
      "gaiaedr3.panstarrs1_best_neighbour\n",
      "gaiaedr3.panstarrs1_join\n",
      "gaiaedr3.panstarrs1_neighbourhood\n",
      "gaiaedr3.ravedr5_best_neighbour\n",
      "gaiaedr3.ravedr5_join\n",
      "gaiaedr3.ravedr5_neighbourhood\n",
      "gaiaedr3.sdssdr13_best_neighbour\n",
      "gaiaedr3.sdssdr13_join\n",
      "gaiaedr3.sdssdr13_neighbourhood\n",
      "gaiaedr3.skymapperdr2_best_neighbour\n",
      "gaiaedr3.skymapperdr2_join\n",
      "gaiaedr3.skymapperdr2_neighbourhood\n",
      "gaiaedr3.tmass_psc_xsc_best_neighbour\n",
      "gaiaedr3.tmass_psc_xsc_join\n",
      "gaiaedr3.tmass_psc_xsc_neighbourhood\n",
      "gaiaedr3.tycho2tdsc_merge_best_neighbour\n",
      "gaiaedr3.tycho2tdsc_merge_neighbourhood\n",
      "gaiaedr3.urat1_best_neighbour\n",
      "gaiaedr3.urat1_neighbourhood\n",
      "gaiaedr3.gaia_source_simulation\n",
      "gaiaedr3.gaia_universe_model\n",
      "gaiaedr3.tycho2tdsc_merge\n",
      "public.hipparcos\n",
      "public.hipparcos_newreduction\n",
      "public.hubble_sc\n",
      "public.igsl_source\n",
      "public.igsl_source_catalog_ids\n",
      "public.tycho2\n",
      "public.dual\n",
      "tap_config.coord_sys\n",
      "tap_config.properties\n",
      "tap_schema.columns\n",
      "tap_schema.key_columns\n",
      "tap_schema.keys\n",
      "tap_schema.schemas\n",
      "tap_schema.tables\n"
     ]
    }
   ],
   "metadata": {
    "tags": []
   }
  },
  {
   "cell_type": "markdown",
   "source": [
    "So that's a lot of tables.  The ones we'll use are:\n",
    "\n",
    "* `gaiadr2.gaia_source`, which contains Gaia data from [data release 2](https://www.cosmos.esa.int/web/gaia/data-release-2),\n",
    "\n",
    "* `gaiadr2.panstarrs1_original_valid`, which contains the photometry data we'll use from PanSTARRS, and\n",
    "\n",
    "* `gaiadr2.panstarrs1_best_neighbour`, which we'll use to cross-match each star observed by Gaia with the same star observed by PanSTARRS.\n",
    "\n",
    "We can use `load_table` (not `load_tables`) to get the metadata for a single table.  The name of this function is misleading, because it only downloads metadata, not the contents of the table."
   ],
   "metadata": {}
  },
  {
   "cell_type": "code",
   "execution_count": 4,
   "source": [
    "meta = Gaia.load_table('gaiadr2.gaia_source')\r\n",
    "meta"
   ],
   "outputs": [
    {
     "output_type": "stream",
     "name": "stdout",
     "text": [
      "Retrieving table 'gaiadr2.gaia_source'\n"
     ]
    },
    {
     "output_type": "execute_result",
     "data": {
      "text/plain": [
       "<astroquery.utils.tap.model.taptable.TapTableMeta at 0x1bb55dc6a58>"
      ]
     },
     "metadata": {},
     "execution_count": 4
    }
   ],
   "metadata": {}
  },
  {
   "cell_type": "markdown",
   "source": [
    "Jupyter shows that the result is an object of type `TapTableMeta`, but it does not display the contents.\n",
    "\n",
    "To see the metadata, we have to print the object."
   ],
   "metadata": {}
  },
  {
   "cell_type": "code",
   "execution_count": 5,
   "source": [
    "print(meta)"
   ],
   "outputs": [
    {
     "output_type": "stream",
     "name": "stdout",
     "text": [
      "TAP Table name: gaiadr2.gaiadr2.gaia_source\n",
      "Description: This table has an entry for every Gaia observed source as listed in the\n",
      "Main Database accumulating catalogue version from which the catalogue\n",
      "release has been generated. It contains the basic source parameters,\n",
      "that is only final data (no epoch data) and no spectra (neither final\n",
      "nor epoch).\n",
      "Num. columns: 95\n"
     ]
    }
   ],
   "metadata": {}
  },
  {
   "cell_type": "markdown",
   "source": [
    "## Columns\n",
    "\n",
    "The following loop prints the names of the columns in the table."
   ],
   "metadata": {}
  },
  {
   "cell_type": "code",
   "execution_count": 6,
   "source": [
    "for column in meta.columns:\r\n",
    "    print(column.name)"
   ],
   "outputs": [
    {
     "output_type": "stream",
     "name": "stdout",
     "text": [
      "solution_id\n",
      "designation\n",
      "source_id\n",
      "random_index\n",
      "ref_epoch\n",
      "ra\n",
      "ra_error\n",
      "dec\n",
      "dec_error\n",
      "parallax\n",
      "parallax_error\n",
      "parallax_over_error\n",
      "pmra\n",
      "pmra_error\n",
      "pmdec\n",
      "pmdec_error\n",
      "ra_dec_corr\n",
      "ra_parallax_corr\n",
      "ra_pmra_corr\n",
      "ra_pmdec_corr\n",
      "dec_parallax_corr\n",
      "dec_pmra_corr\n",
      "dec_pmdec_corr\n",
      "parallax_pmra_corr\n",
      "parallax_pmdec_corr\n",
      "pmra_pmdec_corr\n",
      "astrometric_n_obs_al\n",
      "astrometric_n_obs_ac\n",
      "astrometric_n_good_obs_al\n",
      "astrometric_n_bad_obs_al\n",
      "astrometric_gof_al\n",
      "astrometric_chi2_al\n",
      "astrometric_excess_noise\n",
      "astrometric_excess_noise_sig\n",
      "astrometric_params_solved\n",
      "astrometric_primary_flag\n",
      "astrometric_weight_al\n",
      "astrometric_pseudo_colour\n",
      "astrometric_pseudo_colour_error\n",
      "mean_varpi_factor_al\n",
      "astrometric_matched_observations\n",
      "visibility_periods_used\n",
      "astrometric_sigma5d_max\n",
      "frame_rotator_object_type\n",
      "matched_observations\n",
      "duplicated_source\n",
      "phot_g_n_obs\n",
      "phot_g_mean_flux\n",
      "phot_g_mean_flux_error\n",
      "phot_g_mean_flux_over_error\n",
      "phot_g_mean_mag\n",
      "phot_bp_n_obs\n",
      "phot_bp_mean_flux\n",
      "phot_bp_mean_flux_error\n",
      "phot_bp_mean_flux_over_error\n",
      "phot_bp_mean_mag\n",
      "phot_rp_n_obs\n",
      "phot_rp_mean_flux\n",
      "phot_rp_mean_flux_error\n",
      "phot_rp_mean_flux_over_error\n",
      "phot_rp_mean_mag\n",
      "phot_bp_rp_excess_factor\n",
      "phot_proc_mode\n",
      "bp_rp\n",
      "bp_g\n",
      "g_rp\n",
      "radial_velocity\n",
      "radial_velocity_error\n",
      "rv_nb_transits\n",
      "rv_template_teff\n",
      "rv_template_logg\n",
      "rv_template_fe_h\n",
      "phot_variable_flag\n",
      "l\n",
      "b\n",
      "ecl_lon\n",
      "ecl_lat\n",
      "priam_flags\n",
      "teff_val\n",
      "teff_percentile_lower\n",
      "teff_percentile_upper\n",
      "a_g_val\n",
      "a_g_percentile_lower\n",
      "a_g_percentile_upper\n",
      "e_bp_min_rp_val\n",
      "e_bp_min_rp_percentile_lower\n",
      "e_bp_min_rp_percentile_upper\n",
      "flame_flags\n",
      "radius_val\n",
      "radius_percentile_lower\n",
      "radius_percentile_upper\n",
      "lum_val\n",
      "lum_percentile_lower\n",
      "lum_percentile_upper\n",
      "datalink_url\n"
     ]
    }
   ],
   "metadata": {
    "tags": []
   }
  },
  {
   "cell_type": "markdown",
   "source": [
    "You can probably infer what many of these columns are by looking at the names, but you should resist the temptation to guess.\n",
    "To find out what the columns mean, [read the documentation](https://gea.esac.esa.int/archive/documentation/GDR2/Gaia_archive/chap_datamodel/sec_dm_main_tables/ssec_dm_gaia_source.html).\n",
    "\n",
    "If you want to know what can go wrong when you don't read the documentation, [you might like this article](https://www.vox.com/future-perfect/2019/6/4/18650969/married-women-miserable-fake-paul-dolan-happiness)."
   ],
   "metadata": {}
  },
  {
   "cell_type": "markdown",
   "source": [
    "### Exercise\r\n",
    "\r\n",
    "One of the other tables we'll use is `gaiadr2.panstarrs1_original_valid`.  Use `load_table` to get the metadata for this table.  How many columns are there and what are their names?"
   ],
   "metadata": {}
  },
  {
   "cell_type": "code",
   "execution_count": 10,
   "source": [
    "# Solution goes here\r\n",
    "meta2 = Gaia.load_table('gaiadr2.panstarrs1_original_valid')\r\n",
    "for col in meta2.columns:\r\n",
    "    print(col.name)\r\n",
    "print(len(meta2.columns))"
   ],
   "outputs": [
    {
     "output_type": "stream",
     "name": "stdout",
     "text": [
      "Retrieving table 'gaiadr2.panstarrs1_original_valid'\n",
      "obj_name\n",
      "obj_id\n",
      "ra\n",
      "dec\n",
      "ra_error\n",
      "dec_error\n",
      "epoch_mean\n",
      "g_mean_psf_mag\n",
      "g_mean_psf_mag_error\n",
      "g_flags\n",
      "r_mean_psf_mag\n",
      "r_mean_psf_mag_error\n",
      "r_flags\n",
      "i_mean_psf_mag\n",
      "i_mean_psf_mag_error\n",
      "i_flags\n",
      "z_mean_psf_mag\n",
      "z_mean_psf_mag_error\n",
      "z_flags\n",
      "y_mean_psf_mag\n",
      "y_mean_psf_mag_error\n",
      "y_flags\n",
      "n_detections\n",
      "zone_id\n",
      "obj_info_flag\n",
      "quality_flag\n",
      "26\n"
     ]
    }
   ],
   "metadata": {
    "tags": []
   }
  },
  {
   "cell_type": "markdown",
   "source": [
    "## Writing queries\n",
    "\n",
    "By now you might be wondering how we download these tables.  With tables this big, you generally don't.  Instead, you use queries to select only the data you want.\n",
    "\n",
    "A query is a string written in a query language like SQL; for the Gaia database, the query language is a dialect of SQL called ADQL.\n",
    "\n",
    "Here's an example of an ADQL query."
   ],
   "metadata": {}
  },
  {
   "cell_type": "code",
   "execution_count": 11,
   "source": [
    "query1 = \"\"\"SELECT \r\n",
    "TOP 10\r\n",
    "source_id, ra, dec, parallax \r\n",
    "FROM gaiadr2.gaia_source\r\n",
    "\"\"\""
   ],
   "outputs": [],
   "metadata": {}
  },
  {
   "cell_type": "markdown",
   "source": [
    "**Python note:** We use a [triple-quoted string](https://docs.python.org/3/tutorial/introduction.html#strings) here so we can include line breaks in the query, which makes it easier to read.\n",
    "\n",
    "The words in uppercase are ADQL keywords:\n",
    "\n",
    "* `SELECT` indicates that we are selecting data (as opposed to adding or modifying data).\n",
    "\n",
    "* `TOP` indicates that we only want the first 10 rows of the table, which is useful for testing a query before asking for all of the data.\n",
    "\n",
    "* `FROM` specifies which table we want data from.\n",
    "\n",
    "The third line is a list of column names, indicating which columns we want.  \n",
    "\n",
    "In this example, the keywords are capitalized and the column names are lowercase.  This is a common style, but it is not required.  ADQL and SQL are not case-sensitive.\n",
    "\n",
    "Also, the query is broken into multiple lines to make it more readable.  This is a common style, but not required.  Line breaks don't affect the behavior of the query."
   ],
   "metadata": {}
  },
  {
   "cell_type": "markdown",
   "source": [
    "To run this query, we use the `Gaia` object, which represents our connection to the Gaia database, and invoke `launch_job`:"
   ],
   "metadata": {}
  },
  {
   "cell_type": "code",
   "execution_count": 12,
   "source": [
    "job = Gaia.launch_job(query1)\r\n",
    "job"
   ],
   "outputs": [
    {
     "output_type": "execute_result",
     "data": {
      "text/plain": [
       "<astroquery.utils.tap.model.job.Job at 0x1bb55ded0f0>"
      ]
     },
     "metadata": {},
     "execution_count": 12
    }
   ],
   "metadata": {}
  },
  {
   "cell_type": "markdown",
   "source": [
    "The result is an object that represents the job running on a Gaia server.\n",
    "\n",
    "If you print it, it displays metadata for the forthcoming results."
   ],
   "metadata": {}
  },
  {
   "cell_type": "code",
   "execution_count": 13,
   "source": [
    "print(job)"
   ],
   "outputs": [
    {
     "output_type": "stream",
     "name": "stdout",
     "text": [
      "<Table length=10>\n",
      "   name    dtype  unit                            description                             n_bad\n",
      "--------- ------- ---- ------------------------------------------------------------------ -----\n",
      "source_id   int64      Unique source identifier (unique within a particular Data Release)     0\n",
      "       ra float64  deg                                                    Right ascension     0\n",
      "      dec float64  deg                                                        Declination     0\n",
      " parallax float64  mas                                                           Parallax     4\n",
      "Jobid: None\n",
      "Phase: COMPLETED\n",
      "Owner: None\n",
      "Output file: 1629065412703O-result.vot.gz\n",
      "Results: None\n"
     ]
    }
   ],
   "metadata": {}
  },
  {
   "cell_type": "markdown",
   "source": [
    "Don't worry about `Results: None`.  That does not actually mean there are no results.\n",
    "\n",
    "However, `Phase: COMPLETED` indicates that the job is complete, so we can get the results like this:"
   ],
   "metadata": {}
  },
  {
   "cell_type": "code",
   "execution_count": 14,
   "source": [
    "results = job.get_results()\r\n",
    "type(results)"
   ],
   "outputs": [
    {
     "output_type": "execute_result",
     "data": {
      "text/plain": [
       "astropy.table.table.Table"
      ]
     },
     "metadata": {},
     "execution_count": 14
    }
   ],
   "metadata": {}
  },
  {
   "cell_type": "markdown",
   "source": [
    "The `type` function indicates that the result is an [Astropy Table](https://docs.astropy.org/en/stable/table/).\n",
    "\n",
    "**Optional detail:**  Why is `table` repeated three times?  The first is the name of the module, the second is the name of the submodule, and the third is the name of the class.  Most of the time we only care about the last one.  It's like the Linnean name for gorilla, which is *Gorilla gorilla gorilla*."
   ],
   "metadata": {}
  },
  {
   "cell_type": "markdown",
   "source": [
    "An Astropy `Table` is similar to a table in an SQL database except:\n",
    "\n",
    "* SQL databases are stored on disk drives, so they are persistent; that is, they \"survive\" even if you turn off the computer.  An Astropy `Table` is stored in memory; it disappears when you turn off the computer (or shut down this Jupyter notebook).\n",
    "\n",
    "* SQL databases are designed to process queries.  An Astropy `Table` can perform some query-like operations, like selecting columns and rows.  But these operations use Python syntax, not SQL.\n",
    "\n",
    "Jupyter knows how to display the contents of a `Table`."
   ],
   "metadata": {}
  },
  {
   "cell_type": "code",
   "execution_count": 15,
   "source": [
    "results"
   ],
   "outputs": [
    {
     "output_type": "execute_result",
     "data": {
      "text/plain": [
       "<Table length=10>\n",
       "     source_id              ra                 dec               parallax     \n",
       "                           deg                 deg                 mas        \n",
       "       int64             float64             float64             float64      \n",
       "------------------- ------------------ ------------------- -------------------\n",
       "5889082311029613440 234.22190983735516 -51.929753780227735   1.550402811879872\n",
       "5889073171332100736 234.09494825463085 -52.123290157521204  0.6860825980505403\n",
       "5889072587218258176 234.04014814879721 -52.175716397944946 -1.3152162287424611\n",
       "5889084716210004096  234.2447504553315  -51.82366871956257                  --\n",
       "5889084647490361600 234.26373665238887  -51.83546033176276  0.3409467505106596\n",
       "5889084956729971840 234.30763445185087 -51.810918569211715                  --\n",
       "5889071590831221888   234.408014942743  -51.90991332850024 0.34368564414511277\n",
       "5889093203071183872 233.46128279992985  -52.25034875063104                  --\n",
       "5889076607308503552  234.1294621923802 -51.939651968877826 -1.0552142208622926\n",
       "5889082998222585472 234.20820699570987  -51.88775466688636                  --"
      ],
      "text/html": [
       "<i>Table length=10</i>\n",
       "<table id=\"table1904111168032\" class=\"table-striped table-bordered table-condensed\">\n",
       "<thead><tr><th>source_id</th><th>ra</th><th>dec</th><th>parallax</th></tr></thead>\n",
       "<thead><tr><th></th><th>deg</th><th>deg</th><th>mas</th></tr></thead>\n",
       "<thead><tr><th>int64</th><th>float64</th><th>float64</th><th>float64</th></tr></thead>\n",
       "<tr><td>5889082311029613440</td><td>234.22190983735516</td><td>-51.929753780227735</td><td>1.550402811879872</td></tr>\n",
       "<tr><td>5889073171332100736</td><td>234.09494825463085</td><td>-52.123290157521204</td><td>0.6860825980505403</td></tr>\n",
       "<tr><td>5889072587218258176</td><td>234.04014814879721</td><td>-52.175716397944946</td><td>-1.3152162287424611</td></tr>\n",
       "<tr><td>5889084716210004096</td><td>234.2447504553315</td><td>-51.82366871956257</td><td>--</td></tr>\n",
       "<tr><td>5889084647490361600</td><td>234.26373665238887</td><td>-51.83546033176276</td><td>0.3409467505106596</td></tr>\n",
       "<tr><td>5889084956729971840</td><td>234.30763445185087</td><td>-51.810918569211715</td><td>--</td></tr>\n",
       "<tr><td>5889071590831221888</td><td>234.408014942743</td><td>-51.90991332850024</td><td>0.34368564414511277</td></tr>\n",
       "<tr><td>5889093203071183872</td><td>233.46128279992985</td><td>-52.25034875063104</td><td>--</td></tr>\n",
       "<tr><td>5889076607308503552</td><td>234.1294621923802</td><td>-51.939651968877826</td><td>-1.0552142208622926</td></tr>\n",
       "<tr><td>5889082998222585472</td><td>234.20820699570987</td><td>-51.88775466688636</td><td>--</td></tr>\n",
       "</table>"
      ]
     },
     "metadata": {},
     "execution_count": 15
    }
   ],
   "metadata": {}
  },
  {
   "cell_type": "markdown",
   "source": [
    "Each column has a name, units, and a data type.\n",
    "\n",
    "For example, the units of `ra` and `dec` are degrees, and their data type is `float64`, which is a 64-bit [floating-point number](https://en.wikipedia.org/wiki/Floating-point_arithmetic), used to store measurements with a fraction part.\n",
    "\n",
    "This information comes from the Gaia database, and has been stored in the Astropy `Table` by Astroquery."
   ],
   "metadata": {}
  },
  {
   "cell_type": "markdown",
   "source": [
    "### Exercise\n",
    "\n",
    "Read [the documentation](https://gea.esac.esa.int/archive/documentation/GDR2/Gaia_archive/chap_datamodel/sec_dm_main_tables/ssec_dm_gaia_source.html)  of this table and choose a column that looks interesting to you.  Add the column name to the query and run it again.  What are the units of the column you selected?  What is its data type?"
   ],
   "metadata": {}
  },
  {
   "cell_type": "code",
   "execution_count": 18,
   "source": [
    "# Solution goes here\r\n",
    "query1_2 = \"\"\"SELECT \r\n",
    "TOP 10\r\n",
    "source_id, ra, dec, parallax, mean_varpi_factor_al \r\n",
    "FROM gaiadr2.gaia_source\r\n",
    "\"\"\"\r\n",
    "job2 = Gaia.launch_job(query1_2)\r\n",
    "results2 = job2.get_results()\r\n",
    "results2"
   ],
   "outputs": [
    {
     "output_type": "execute_result",
     "data": {
      "text/plain": [
       "<Table length=10>\n",
       "     source_id              ra         ... mean_varpi_factor_al\n",
       "                           deg         ...                     \n",
       "       int64             float64       ...       float32       \n",
       "------------------- ------------------ ... --------------------\n",
       "5889082311029613440 234.22190983735516 ...           0.08410852\n",
       "5889073171332100736 234.09494825463085 ...           0.12997027\n",
       "5889072587218258176 234.04014814879721 ...           0.03999986\n",
       "5889084716210004096  234.2447504553315 ...           0.23558228\n",
       "5889084647490361600 234.26373665238887 ...          0.032321382\n",
       "5889084956729971840 234.30763445185087 ...          -0.18590637\n",
       "5889071590831221888   234.408014942743 ...          0.040215872\n",
       "5889093203071183872 233.46128279992985 ...           0.05719487\n",
       "5889076607308503552  234.1294621923802 ...           0.05762565\n",
       "5889082998222585472 234.20820699570987 ...           0.18672813"
      ],
      "text/html": [
       "<i>Table length=10</i>\n",
       "<table id=\"table1904113605992\" class=\"table-striped table-bordered table-condensed\">\n",
       "<thead><tr><th>source_id</th><th>ra</th><th>dec</th><th>parallax</th><th>mean_varpi_factor_al</th></tr></thead>\n",
       "<thead><tr><th></th><th>deg</th><th>deg</th><th>mas</th><th></th></tr></thead>\n",
       "<thead><tr><th>int64</th><th>float64</th><th>float64</th><th>float64</th><th>float32</th></tr></thead>\n",
       "<tr><td>5889082311029613440</td><td>234.22190983735516</td><td>-51.929753780227735</td><td>1.550402811879872</td><td>0.08410852</td></tr>\n",
       "<tr><td>5889073171332100736</td><td>234.09494825463085</td><td>-52.123290157521204</td><td>0.6860825980505403</td><td>0.12997027</td></tr>\n",
       "<tr><td>5889072587218258176</td><td>234.04014814879721</td><td>-52.175716397944946</td><td>-1.3152162287424611</td><td>0.03999986</td></tr>\n",
       "<tr><td>5889084716210004096</td><td>234.2447504553315</td><td>-51.82366871956257</td><td>--</td><td>0.23558228</td></tr>\n",
       "<tr><td>5889084647490361600</td><td>234.26373665238887</td><td>-51.83546033176276</td><td>0.3409467505106596</td><td>0.032321382</td></tr>\n",
       "<tr><td>5889084956729971840</td><td>234.30763445185087</td><td>-51.810918569211715</td><td>--</td><td>-0.18590637</td></tr>\n",
       "<tr><td>5889071590831221888</td><td>234.408014942743</td><td>-51.90991332850024</td><td>0.34368564414511277</td><td>0.040215872</td></tr>\n",
       "<tr><td>5889093203071183872</td><td>233.46128279992985</td><td>-52.25034875063104</td><td>--</td><td>0.05719487</td></tr>\n",
       "<tr><td>5889076607308503552</td><td>234.1294621923802</td><td>-51.939651968877826</td><td>-1.0552142208622926</td><td>0.05762565</td></tr>\n",
       "<tr><td>5889082998222585472</td><td>234.20820699570987</td><td>-51.88775466688636</td><td>--</td><td>0.18672813</td></tr>\n",
       "</table>"
      ]
     },
     "metadata": {},
     "execution_count": 18
    }
   ],
   "metadata": {}
  },
  {
   "cell_type": "markdown",
   "source": [
    "## Asynchronous queries\n",
    "\n",
    "`launch_job` asks the server to run the job \"synchronously\", which normally means it runs immediately.  But synchronous jobs are limited to 2000 rows.  For queries that return more rows, you should run \"asynchronously\", which mean they might take longer to get started.\n",
    "\n",
    "If you are not sure how many rows a query will return, you can use the SQL command `COUNT` to find out how many rows are in the result without actually returning them.  We'll see an example in the next lesson.\n",
    "\n",
    "The results of an asynchronous query are stored in a file on the server, so you can start a query and come back later to get the results.\n",
    "For anonymous users, files are kept for three days.\n",
    "\n",
    "As an example, let's try a query that's similar to `query1`, with these changes:\n",
    "\n",
    "* It selects the first 3000 rows, so it is bigger than we should run synchronously.\n",
    "\n",
    "* It selects two additional columns, `pmra` and `pmdec`, which are proper motions along the axes of `ra` and `dec`.\n",
    "\n",
    "* It uses a new keyword, `WHERE`."
   ],
   "metadata": {}
  },
  {
   "cell_type": "code",
   "execution_count": 19,
   "source": [
    "query2 = \"\"\"SELECT \r\n",
    "TOP 3000\r\n",
    "source_id, ra, dec, pmra, pmdec, parallax\r\n",
    "FROM gaiadr2.gaia_source\r\n",
    "WHERE parallax < 1\r\n",
    "\"\"\""
   ],
   "outputs": [],
   "metadata": {}
  },
  {
   "cell_type": "markdown",
   "source": [
    "A `WHERE` clause indicates which rows we want; in this case, the query selects only rows \"where\" `parallax` is less than 1.  This has the effect of selecting stars with relatively low parallax, which are farther away.\n",
    "We'll use this clause to exclude nearby stars that are unlikely to be part of GD-1.\n",
    "\n",
    "`WHERE` is one of the most common clauses in ADQL/SQL, and one of the most useful, because it allows us to download only the rows we need from the database.\n",
    "\n",
    "We use `launch_job_async` to submit an asynchronous query."
   ],
   "metadata": {}
  },
  {
   "cell_type": "code",
   "execution_count": 20,
   "source": [
    "job = Gaia.launch_job_async(query2)\r\n",
    "job"
   ],
   "outputs": [
    {
     "output_type": "stream",
     "name": "stdout",
     "text": [
      "INFO: Query finished. [astroquery.utils.tap.core]\n"
     ]
    },
    {
     "output_type": "execute_result",
     "data": {
      "text/plain": [
       "<astroquery.utils.tap.model.job.Job at 0x1bb5603db00>"
      ]
     },
     "metadata": {},
     "execution_count": 20
    }
   ],
   "metadata": {}
  },
  {
   "cell_type": "markdown",
   "source": [
    "And here are the results."
   ],
   "metadata": {}
  },
  {
   "cell_type": "code",
   "execution_count": 21,
   "source": [
    "results = job.get_results()\r\n",
    "results"
   ],
   "outputs": [
    {
     "output_type": "execute_result",
     "data": {
      "text/plain": [
       "<Table length=3000>\n",
       "     source_id              ra         ...       parallax     \n",
       "                           deg         ...         mas        \n",
       "       int64             float64       ...       float64      \n",
       "------------------- ------------------ ... -------------------\n",
       "5889073171332100736 234.09494825463085 ...  0.6860825980505403\n",
       "5889072587218258176 234.04014814879721 ... -1.3152162287424611\n",
       "5889084647490361600 234.26373665238887 ...  0.3409467505106596\n",
       "5889071590831221888   234.408014942743 ... 0.34368564414511277\n",
       "5889076607308503552  234.1294621923802 ... -1.0552142208622926\n",
       "5889076504274316160 234.15004441889215 ... 0.23117382581306198\n",
       "5889076744792728320  233.9459741696648 ...  0.5675004390653294\n",
       "5889086571637872000 234.07409935153905 ... 0.09600409033374659\n",
       "5889086331160526208  234.1258326111408 ...  0.2978131132888295\n",
       "                ...                ... ...                 ...\n",
       "5889076641713488256 233.95670867546093 ... 0.22353222065222017\n",
       "5889073961609406976 234.04202791323328 ... 0.24977066093926378\n",
       "5889073411852054272 233.99841573237293 ... -0.2539995590266661\n",
       "5889072381105881856 234.11684965530296 ...  0.3155333433122079\n",
       "5889076298115859712  234.1625678557122 ...  0.7028801190225601\n",
       "5889081383316652160 234.20427682199173 ... -0.5199588215349635\n",
       "5889091863040648576 233.40107613005242 ... -1.7857849075370988\n",
       "5889091278923556736 233.33894531253492 ...  0.8288540990344035\n",
       "5889084613130518528 234.25979133931807 ...  0.3861780757705323\n",
       "5889074889321299968 234.17471242215532 ... 0.08830930294699729"
      ],
      "text/html": [
       "<i>Table length=3000</i>\n",
       "<table id=\"table1904113690104\" class=\"table-striped table-bordered table-condensed\">\n",
       "<thead><tr><th>source_id</th><th>ra</th><th>dec</th><th>pmra</th><th>pmdec</th><th>parallax</th></tr></thead>\n",
       "<thead><tr><th></th><th>deg</th><th>deg</th><th>mas / yr</th><th>mas / yr</th><th>mas</th></tr></thead>\n",
       "<thead><tr><th>int64</th><th>float64</th><th>float64</th><th>float64</th><th>float64</th><th>float64</th></tr></thead>\n",
       "<tr><td>5889073171332100736</td><td>234.09494825463085</td><td>-52.123290157521204</td><td>-3.8043482947585874</td><td>-6.28859470357828</td><td>0.6860825980505403</td></tr>\n",
       "<tr><td>5889072587218258176</td><td>234.04014814879721</td><td>-52.175716397944946</td><td>-9.367946019271308</td><td>1.0603500241578756</td><td>-1.3152162287424611</td></tr>\n",
       "<tr><td>5889084647490361600</td><td>234.26373665238887</td><td>-51.83546033176276</td><td>-2.387710681897069</td><td>-6.13257523929482</td><td>0.3409467505106596</td></tr>\n",
       "<tr><td>5889071590831221888</td><td>234.408014942743</td><td>-51.90991332850024</td><td>-5.1183189168023615</td><td>-4.082704494153838</td><td>0.34368564414511277</td></tr>\n",
       "<tr><td>5889076607308503552</td><td>234.1294621923802</td><td>-51.939651968877826</td><td>-7.691098560846239</td><td>-5.216873860014304</td><td>-1.0552142208622926</td></tr>\n",
       "<tr><td>5889076504274316160</td><td>234.15004441889215</td><td>-51.972787370220026</td><td>-4.464316487250343</td><td>-3.2334157834457766</td><td>0.23117382581306198</td></tr>\n",
       "<tr><td>5889076744792728320</td><td>233.9459741696648</td><td>-52.087922818686586</td><td>-4.560900300103525</td><td>-4.041991521919686</td><td>0.5675004390653294</td></tr>\n",
       "<tr><td>5889086571637872000</td><td>234.07409935153905</td><td>-51.86031932330594</td><td>-1.5993438229144166</td><td>-6.273350848312769</td><td>0.09600409033374659</td></tr>\n",
       "<tr><td>5889086331160526208</td><td>234.1258326111408</td><td>-51.84331590002109</td><td>-4.393969645870721</td><td>-3.7728956764313093</td><td>0.2978131132888295</td></tr>\n",
       "<tr><td>...</td><td>...</td><td>...</td><td>...</td><td>...</td><td>...</td></tr>\n",
       "<tr><td>5889076641713488256</td><td>233.95670867546093</td><td>-52.11341419399798</td><td>-8.34663413811288</td><td>-4.450937288386614</td><td>0.22353222065222017</td></tr>\n",
       "<tr><td>5889073961609406976</td><td>234.04202791323328</td><td>-52.098766105844625</td><td>-7.848390828409649</td><td>-4.455962641447647</td><td>0.24977066093926378</td></tr>\n",
       "<tr><td>5889073411852054272</td><td>233.99841573237293</td><td>-52.149437069807654</td><td>-4.130061963522979</td><td>-8.13519209264356</td><td>-0.2539995590266661</td></tr>\n",
       "<tr><td>5889072381105881856</td><td>234.11684965530296</td><td>-52.18930398271391</td><td>-3.5627538199094335</td><td>-5.105280221396455</td><td>0.3155333433122079</td></tr>\n",
       "<tr><td>5889076298115859712</td><td>234.1625678557122</td><td>-51.986763991518</td><td>-4.5958679374290154</td><td>-5.3983438007921</td><td>0.7028801190225601</td></tr>\n",
       "<tr><td>5889081383316652160</td><td>234.20427682199173</td><td>-51.97866471763506</td><td>-0.6030885906669823</td><td>1.3815769875462396</td><td>-0.5199588215349635</td></tr>\n",
       "<tr><td>5889091863040648576</td><td>233.40107613005242</td><td>-52.261010366270554</td><td>-10.275541495277675</td><td>-0.09271761345563245</td><td>-1.7857849075370988</td></tr>\n",
       "<tr><td>5889091278923556736</td><td>233.33894531253492</td><td>-52.32192507170617</td><td>0.013504348195974014</td><td>-4.563176137318274</td><td>0.8288540990344035</td></tr>\n",
       "<tr><td>5889084613130518528</td><td>234.25979133931807</td><td>-51.847532480125274</td><td>-6.830806913810239</td><td>-5.618204178581452</td><td>0.3861780757705323</td></tr>\n",
       "<tr><td>5889074889321299968</td><td>234.17471242215532</td><td>-52.04475026840596</td><td>-7.086355922426261</td><td>-3.8826078601094967</td><td>0.08830930294699729</td></tr>\n",
       "</table>"
      ]
     },
     "metadata": {},
     "execution_count": 21
    }
   ],
   "metadata": {}
  },
  {
   "cell_type": "markdown",
   "source": [
    "You might notice that some values of `parallax` are negative.  As [this FAQ explains](https://www.cosmos.esa.int/web/gaia/archive-tips#negative%20parallax), \"Negative parallaxes are caused by errors in the observations.\"  They have \"no physical meaning,\" but they can be a \"useful diagnostic on the quality of the astrometric solution.\""
   ],
   "metadata": {}
  },
  {
   "cell_type": "markdown",
   "source": [
    "### Exercise\n",
    "\n",
    "The clauses in a query have to be in the right order.  Go back and change the order of the clauses in `query2` and run it again.\n",
    "The modified query should fail, but notice that you don't get much useful debugging information.\n",
    "\n",
    "For this reason, developing and debugging ADQL queries can be really hard.  A few suggestions that might help:\n",
    "\n",
    "* Whenever possible, start with a working query, either an example you find online or a query you have used in the past.\n",
    "\n",
    "* Make small changes and test each change before you continue.\n",
    "\n",
    "* While you are debugging, use `TOP` to limit the number of rows in the result.  That will make each test run faster, which reduces your development time.  \n",
    "\n",
    "* Launching test queries synchronously might make them start faster, too."
   ],
   "metadata": {}
  },
  {
   "cell_type": "code",
   "execution_count": 21,
   "source": [
    "# Solution goes here"
   ],
   "outputs": [],
   "metadata": {}
  },
  {
   "cell_type": "markdown",
   "source": [
    "## Operators\n",
    "\n",
    "In a `WHERE` clause, you can use any of the [SQL comparison operators](https://www.w3schools.com/sql/sql_operators.asp); here are the most common ones:\n",
    "\n",
    "| Symbol | Operation\n",
    "|--------| :---\n",
    "| `>` | greater than\n",
    "| `<` | less than\n",
    "| `>=` | greater than or equal\n",
    "| `<=` | less than or equal\n",
    "| `=` | equal\n",
    "| `!=` or `<>` | not equal\n",
    "\n",
    "Most of these are the same as Python, but some are not.  In particular, notice that the equality operator is `=`, not `==`.\n",
    "Be careful to keep your Python out of your ADQL!"
   ],
   "metadata": {}
  },
  {
   "cell_type": "markdown",
   "source": [
    "You can combine comparisons using the logical operators:\n",
    "\n",
    "* AND: true if both comparisons are true\n",
    "* OR: true if either or both comparisons are true\n",
    "\n",
    "Finally, you can use `NOT` to invert the result of a comparison. "
   ],
   "metadata": {}
  },
  {
   "cell_type": "markdown",
   "source": [
    "### Exercise\n",
    "\n",
    "[Read about SQL operators here](https://www.w3schools.com/sql/sql_operators.asp) and then modify the previous query to select rows where `bp_rp` is between `-0.75` and `2`."
   ],
   "metadata": {}
  },
  {
   "cell_type": "code",
   "execution_count": 22,
   "source": [
    "# Solution goes here\r\n",
    "query2_2 = \"\"\"SELECT \r\n",
    "TOP 3000\r\n",
    "source_id, ra, dec, pmra, pmdec, parallax\r\n",
    "FROM gaiadr2.gaia_source\r\n",
    "WHERE bp_rp BETWEEN -0.75 AND 2\r\n",
    "\"\"\"\r\n",
    "job2_2 = Gaia.launch_job_async(query2_2)\r\n",
    "results2_2 = job2_2.get_results()\r\n",
    "results2_2"
   ],
   "outputs": [
    {
     "output_type": "stream",
     "name": "stdout",
     "text": [
      "INFO: Query finished. [astroquery.utils.tap.core]\n"
     ]
    },
    {
     "output_type": "execute_result",
     "data": {
      "text/plain": [
       "<Table length=3000>\n",
       "     source_id              ra         ...       parallax     \n",
       "                           deg         ...         mas        \n",
       "       int64             float64       ...       float64      \n",
       "------------------- ------------------ ... -------------------\n",
       "6753811780626654080 299.09623066446665 ...  2.9962930277544197\n",
       "6753821641871642240   299.400677160188 ...  0.2419139970204429\n",
       "6753716196127854336 299.39986432352873 ...   0.321569687795037\n",
       "6753793157648076416 299.39962091831296 ...  1.1600191541272769\n",
       "6753736468377430784  299.3644860429101 ... 0.18474055159655484\n",
       "6753732134751792128 299.45136632654504 ... 0.46800370421404214\n",
       "6753771068633959296  299.6641092229929 ...  0.9502021977091759\n",
       "6753818686934120448 299.58890802562297 ... -0.7759045249036279\n",
       "6753830094367688704 299.67340559956256 ...  0.3814362258092114\n",
       "                ...                ... ...                 ...\n",
       "6753826216011283456 299.69117376667975 ...   2.244941832445058\n",
       "6753734677372481024  299.2753973171935 ... 0.34600921052171574\n",
       "6753749692578676992 299.95825235855307 ...  0.5307561329032748\n",
       "6753781926311012480 299.22157386953546 ... 0.15313378386561857\n",
       "6753746634561756672  299.9123573685262 ...  1.3590044471458236\n",
       "6753733921458472704  299.2486133198888 ... -0.5546301718203882\n",
       "6753727324388798848 299.68207310627866 ... 0.30994384374067874\n",
       "6753799071817076480  298.9967379328204 ...  3.6499478271101546\n",
       "6753757183001972480 300.14395416465965 ...  0.1897408585817943\n",
       "6753794532037568768 299.24410568285083 ...  0.5696386748658713"
      ],
      "text/html": [
       "<i>Table length=3000</i>\n",
       "<table id=\"table1904113688648\" class=\"table-striped table-bordered table-condensed\">\n",
       "<thead><tr><th>source_id</th><th>ra</th><th>dec</th><th>pmra</th><th>pmdec</th><th>parallax</th></tr></thead>\n",
       "<thead><tr><th></th><th>deg</th><th>deg</th><th>mas / yr</th><th>mas / yr</th><th>mas</th></tr></thead>\n",
       "<thead><tr><th>int64</th><th>float64</th><th>float64</th><th>float64</th><th>float64</th><th>float64</th></tr></thead>\n",
       "<tr><td>6753811780626654080</td><td>299.09623066446665</td><td>-27.844532188120496</td><td>0.3205768339804622</td><td>-5.693503428075967</td><td>2.9962930277544197</td></tr>\n",
       "<tr><td>6753821641871642240</td><td>299.400677160188</td><td>-27.81475148639242</td><td>-11.08390099671778</td><td>-3.8627427598561637</td><td>0.2419139970204429</td></tr>\n",
       "<tr><td>6753716196127854336</td><td>299.39986432352873</td><td>-28.480771934491298</td><td>-1.0006558574527538</td><td>-13.7743747487999</td><td>0.321569687795037</td></tr>\n",
       "<tr><td>6753793157648076416</td><td>299.39962091831296</td><td>-27.97163830368589</td><td>10.456053076761474</td><td>-15.578117702040961</td><td>1.1600191541272769</td></tr>\n",
       "<tr><td>6753736468377430784</td><td>299.3644860429101</td><td>-28.189627236814697</td><td>-3.511219108830095</td><td>-7.354023711420181</td><td>0.18474055159655484</td></tr>\n",
       "<tr><td>6753732134751792128</td><td>299.45136632654504</td><td>-28.25888117120162</td><td>7.62262112868908</td><td>2.1814608493374332</td><td>0.46800370421404214</td></tr>\n",
       "<tr><td>6753771068633959296</td><td>299.6641092229929</td><td>-27.90793122801646</td><td>-3.1029289682024928</td><td>1.3925063197300716</td><td>0.9502021977091759</td></tr>\n",
       "<tr><td>6753818686934120448</td><td>299.58890802562297</td><td>-27.823488387494177</td><td>0.15966167807457488</td><td>-4.689315790762471</td><td>-0.7759045249036279</td></tr>\n",
       "<tr><td>6753830094367688704</td><td>299.67340559956256</td><td>-27.618362436198034</td><td>1.6611375761241982</td><td>-4.108725988573257</td><td>0.3814362258092114</td></tr>\n",
       "<tr><td>...</td><td>...</td><td>...</td><td>...</td><td>...</td><td>...</td></tr>\n",
       "<tr><td>6753826216011283456</td><td>299.69117376667975</td><td>-27.701604518558145</td><td>-1.1422255203257072</td><td>0.5586532465408831</td><td>2.244941832445058</td></tr>\n",
       "<tr><td>6753734677372481024</td><td>299.2753973171935</td><td>-28.231422362410534</td><td>-0.7879256005005378</td><td>-2.4483972196526675</td><td>0.34600921052171574</td></tr>\n",
       "<tr><td>6753749692578676992</td><td>299.95825235855307</td><td>-28.09727944257806</td><td>0.8191734876785364</td><td>-1.1338767685831737</td><td>0.5307561329032748</td></tr>\n",
       "<tr><td>6753781926311012480</td><td>299.22157386953546</td><td>-28.204538957008822</td><td>2.328220167321321</td><td>-1.5597324269665087</td><td>0.15313378386561857</td></tr>\n",
       "<tr><td>6753746634561756672</td><td>299.9123573685262</td><td>-28.203886946510583</td><td>-8.250457476763277</td><td>-7.229465247540853</td><td>1.3590044471458236</td></tr>\n",
       "<tr><td>6753733921458472704</td><td>299.2486133198888</td><td>-28.28591173434308</td><td>-3.3456309295318483</td><td>-16.361387867189745</td><td>-0.5546301718203882</td></tr>\n",
       "<tr><td>6753727324388798848</td><td>299.68207310627866</td><td>-28.19893535207583</td><td>1.8717244422083943</td><td>-5.568315569013446</td><td>0.30994384374067874</td></tr>\n",
       "<tr><td>6753799071817076480</td><td>298.9967379328204</td><td>-28.05180776925484</td><td>5.031855478657868</td><td>-10.782284913986992</td><td>3.6499478271101546</td></tr>\n",
       "<tr><td>6753757183001972480</td><td>300.14395416465965</td><td>-27.98249691548671</td><td>-4.105426413712323</td><td>-3.128408790922199</td><td>0.1897408585817943</td></tr>\n",
       "<tr><td>6753794532037568768</td><td>299.24410568285083</td><td>-27.98607047444648</td><td>-2.3185505340708326</td><td>-2.3284377391283577</td><td>0.5696386748658713</td></tr>\n",
       "</table>"
      ]
     },
     "metadata": {},
     "execution_count": 22
    }
   ],
   "metadata": {
    "tags": []
   }
  },
  {
   "cell_type": "markdown",
   "source": [
    "`bp_rp` contains BP-RP color, which is the difference between two other columns, `phot_bp_mean_mag` and `phot_rp_mean_mag`.\n",
    "You can [read about this variable here](https://gea.esac.esa.int/archive/documentation/GDR2/Gaia_archive/chap_datamodel/sec_dm_main_tables/ssec_dm_gaia_source.html).\n",
    "\n",
    "This [Hertzsprung-Russell diagram](https://sci.esa.int/web/gaia/-/60198-gaia-hertzsprung-russell-diagram) shows the BP-RP color and luminosity of stars in the Gaia catalog (Copyright: ESA/Gaia/DPAC, CC BY-SA 3.0 IGO).\n",
    "\n",
    "<img width=\"300\" src=\"https://github.com/AllenDowney/AstronomicalData/raw/main/images/1567214809100-ESA_Gaia_DR2_HRD_Gaia_625.jpg\">\n",
    "\n",
    "Selecting stars with `bp-rp` less than 2 excludes many [class M dwarf stars](https://xkcd.com/2360/), which are low temperature, low luminosity.  A star like that at GD-1's distance would be hard to detect, so if it is detected, it it more likely to be in the foreground."
   ],
   "metadata": {}
  },
  {
   "cell_type": "markdown",
   "source": [
    "## Formatting queries\n",
    "\n",
    "The queries we have written so far are string \"literals\", meaning that the entire string is part of the program.\n",
    "But writing queries yourself can be slow, repetitive, and error-prone.\n",
    "\n",
    "It is often better to write Python code that assembles a query for you.  One useful tool for that is the [string `format` method](https://www.w3schools.com/python/ref_string_format.asp).\n",
    "\n",
    "As an example, we'll divide the previous query into two parts; a list of column names and a \"base\" for the query that contains everything except the column names.\n",
    "\n",
    "Here's the list of columns we'll select.  "
   ],
   "metadata": {}
  },
  {
   "cell_type": "code",
   "execution_count": 23,
   "source": [
    "columns = 'source_id, ra, dec, pmra, pmdec, parallax'"
   ],
   "outputs": [],
   "metadata": {}
  },
  {
   "cell_type": "markdown",
   "source": [
    "And here's the base; it's a string that contains at least one format specifier in curly brackets (braces)."
   ],
   "metadata": {}
  },
  {
   "cell_type": "code",
   "execution_count": 24,
   "source": [
    "query3_base = \"\"\"SELECT \r\n",
    "TOP 10 \r\n",
    "{columns}\r\n",
    "FROM gaiadr2.gaia_source\r\n",
    "WHERE parallax < 1\r\n",
    "  AND bp_rp BETWEEN -0.75 AND 2\r\n",
    "\"\"\""
   ],
   "outputs": [],
   "metadata": {}
  },
  {
   "cell_type": "markdown",
   "source": [
    "This base query contains one format specifier, `{columns}`, which is a placeholder for the list of column names we will provide.\n",
    "\n",
    "To assemble the query, we invoke `format` on the base string and provide a keyword argument that assigns a value to `columns`."
   ],
   "metadata": {}
  },
  {
   "cell_type": "code",
   "execution_count": 25,
   "source": [
    "query3 = query3_base.format(columns=columns)"
   ],
   "outputs": [],
   "metadata": {}
  },
  {
   "cell_type": "markdown",
   "source": [
    "In this example, the variable that contains the column names and the variable in the format specifier have the same name.\n",
    "That's not required, but it is a common style.\n",
    "\n",
    "The result is a string with line breaks.  If you display it, the line breaks appear as `\\n`."
   ],
   "metadata": {}
  },
  {
   "cell_type": "code",
   "execution_count": 26,
   "source": [
    "query3"
   ],
   "outputs": [
    {
     "output_type": "execute_result",
     "data": {
      "text/plain": [
       "'SELECT \\nTOP 10 \\nsource_id, ra, dec, pmra, pmdec, parallax\\nFROM gaiadr2.gaia_source\\nWHERE parallax < 1\\n  AND bp_rp BETWEEN -0.75 AND 2\\n'"
      ]
     },
     "metadata": {},
     "execution_count": 26
    }
   ],
   "metadata": {}
  },
  {
   "cell_type": "markdown",
   "source": [
    "But if you print it, the line breaks appear as... line breaks."
   ],
   "metadata": {}
  },
  {
   "cell_type": "code",
   "execution_count": 27,
   "source": [
    "print(query3)"
   ],
   "outputs": [
    {
     "output_type": "stream",
     "name": "stdout",
     "text": [
      "SELECT \n",
      "TOP 10 \n",
      "source_id, ra, dec, pmra, pmdec, parallax\n",
      "FROM gaiadr2.gaia_source\n",
      "WHERE parallax < 1\n",
      "  AND bp_rp BETWEEN -0.75 AND 2\n",
      "\n"
     ]
    }
   ],
   "metadata": {}
  },
  {
   "cell_type": "markdown",
   "source": [
    "Notice that the format specifier has been replaced with the value of `columns`.\n",
    "\n",
    "Let's run it and see if it works:"
   ],
   "metadata": {}
  },
  {
   "cell_type": "code",
   "execution_count": 28,
   "source": [
    "job = Gaia.launch_job(query3)\r\n",
    "print(job)"
   ],
   "outputs": [
    {
     "output_type": "stream",
     "name": "stdout",
     "text": [
      "<Table length=10>\n",
      "   name    dtype    unit                              description                            \n",
      "--------- ------- -------- ------------------------------------------------------------------\n",
      "source_id   int64          Unique source identifier (unique within a particular Data Release)\n",
      "       ra float64      deg                                                    Right ascension\n",
      "      dec float64      deg                                                        Declination\n",
      "     pmra float64 mas / yr                         Proper motion in right ascension direction\n",
      "    pmdec float64 mas / yr                             Proper motion in declination direction\n",
      " parallax float64      mas                                                           Parallax\n",
      "Jobid: None\n",
      "Phase: COMPLETED\n",
      "Owner: None\n",
      "Output file: 1629065866674O-result.vot.gz\n",
      "Results: None\n"
     ]
    }
   ],
   "metadata": {
    "scrolled": true
   }
  },
  {
   "cell_type": "code",
   "execution_count": 29,
   "source": [
    "results = job.get_results()\r\n",
    "results"
   ],
   "outputs": [
    {
     "output_type": "execute_result",
     "data": {
      "text/plain": [
       "<Table length=10>\n",
       "     source_id              ra         ...        parallax      \n",
       "                           deg         ...          mas         \n",
       "       int64             float64       ...        float64       \n",
       "------------------- ------------------ ... ---------------------\n",
       "5889078806331742336 233.91869461975625 ... -0.037527668956971065\n",
       "5889090145051883008  233.4314364361391 ...  -0.44966052633091796\n",
       "5889075473436996352 234.18439229178492 ...    0.7510181214963857\n",
       "5889088186543934720 234.25627628150863 ...    0.8935896190493613\n",
       "5889073411852055040  234.0032410052215 ...   -0.6122962304703363\n",
       "5889081314638284544  234.2377386729212 ...    0.9520877291688004\n",
       "5042042119444231168  23.42089933375398 ...   0.24558430835501216\n",
       "5042249244242758016  23.15584875040278 ...  -0.10592358402398244\n",
       "5041924609138766592   23.3129717716489 ...   0.23157066269667786\n",
       "5041792289786101632 22.724015860164876 ...    0.7099004472693359"
      ],
      "text/html": [
       "<i>Table length=10</i>\n",
       "<table id=\"table1904113685168\" class=\"table-striped table-bordered table-condensed\">\n",
       "<thead><tr><th>source_id</th><th>ra</th><th>dec</th><th>pmra</th><th>pmdec</th><th>parallax</th></tr></thead>\n",
       "<thead><tr><th></th><th>deg</th><th>deg</th><th>mas / yr</th><th>mas / yr</th><th>mas</th></tr></thead>\n",
       "<thead><tr><th>int64</th><th>float64</th><th>float64</th><th>float64</th><th>float64</th><th>float64</th></tr></thead>\n",
       "<tr><td>5889078806331742336</td><td>233.91869461975625</td><td>-51.94659850101529</td><td>-2.1475464067359327</td><td>-3.7248539426166114</td><td>-0.037527668956971065</td></tr>\n",
       "<tr><td>5889090145051883008</td><td>233.4314364361391</td><td>-52.36577920429027</td><td>-4.936383258538818</td><td>-2.8968792039915283</td><td>-0.44966052633091796</td></tr>\n",
       "<tr><td>5889075473436996352</td><td>234.18439229178492</td><td>-52.0096540786867</td><td>-2.411080991702949</td><td>-4.96615400544909</td><td>0.7510181214963857</td></tr>\n",
       "<tr><td>5889088186543934720</td><td>234.25627628150863</td><td>-51.77667618270126</td><td>-5.583403088335174</td><td>-4.710527143265683</td><td>0.8935896190493613</td></tr>\n",
       "<tr><td>5889073411852055040</td><td>234.0032410052215</td><td>-52.14960317835028</td><td>-8.465201052001195</td><td>-2.9547545574649683</td><td>-0.6122962304703363</td></tr>\n",
       "<tr><td>5889081314638284544</td><td>234.2377386729212</td><td>-51.99344940796008</td><td>-7.378508760309949</td><td>-3.049000390066964</td><td>0.9520877291688004</td></tr>\n",
       "<tr><td>5042042119444231168</td><td>23.42089933375398</td><td>-22.921613582305753</td><td>2.6673346084964686</td><td>0.09991482134278472</td><td>0.24558430835501216</td></tr>\n",
       "<tr><td>5042249244242758016</td><td>23.15584875040278</td><td>-22.64524169519659</td><td>6.47266292977332</td><td>-23.263353382242443</td><td>-0.10592358402398244</td></tr>\n",
       "<tr><td>5041924609138766592</td><td>23.3129717716489</td><td>-23.755012174017477</td><td>4.249149935453706</td><td>-10.701060572341515</td><td>0.23157066269667786</td></tr>\n",
       "<tr><td>5041792289786101632</td><td>22.724015860164876</td><td>-24.285876972060837</td><td>-2.4859271775202565</td><td>-7.000102981227639</td><td>0.7099004472693359</td></tr>\n",
       "</table>"
      ]
     },
     "metadata": {},
     "execution_count": 29
    }
   ],
   "metadata": {}
  },
  {
   "cell_type": "markdown",
   "source": [
    "Good so far."
   ],
   "metadata": {}
  },
  {
   "cell_type": "markdown",
   "source": [
    "### Exercise\n",
    "\n",
    "This query always selects sources with `parallax` less than 1.  But suppose you want to take that upper bound as an input.\n",
    "\n",
    "Modify `query3_base` to replace `1` with a format specifier like `{max_parallax}`.  Now, when you call `format`, add a keyword argument that assigns a value to `max_parallax`, and confirm that the format specifier gets replaced with the value you provide."
   ],
   "metadata": {}
  },
  {
   "cell_type": "code",
   "execution_count": 31,
   "source": [
    "# Solution goes here\r\n",
    "query3_2_base = \"\"\"SELECT \r\n",
    "TOP 10 \r\n",
    "{columns}\r\n",
    "FROM gaiadr2.gaia_source\r\n",
    "WHERE parallax < {max_parallax}\r\n",
    "  AND bp_rp BETWEEN -0.75 AND 2\r\n",
    "\"\"\"\r\n",
    "query3_2_base = query3_2_base.format(columns = columns, max_parallax = 1)\r\n",
    "print(query3_2_base)"
   ],
   "outputs": [
    {
     "output_type": "stream",
     "name": "stdout",
     "text": [
      "SELECT \n",
      "TOP 10 \n",
      "source_id, ra, dec, pmra, pmdec, parallax\n",
      "FROM gaiadr2.gaia_source\n",
      "WHERE parallax < 1\n",
      "  AND bp_rp BETWEEN -0.75 AND 2\n",
      "\n"
     ]
    }
   ],
   "metadata": {
    "tags": []
   }
  },
  {
   "cell_type": "markdown",
   "source": [
    "## Summary\n",
    "\n",
    "This notebook demonstrates the following steps:\n",
    "\n",
    "1. Making a connection to the Gaia server,\n",
    "\n",
    "2. Exploring information about the database and the tables it contains,\n",
    "\n",
    "3. Writing a query and sending it to the server, and finally\n",
    "\n",
    "4. Downloading the response from the server as an Astropy `Table`.\n",
    "\n",
    "In the next lesson we will extend these queries to select a particular region of the sky."
   ],
   "metadata": {}
  },
  {
   "cell_type": "markdown",
   "source": [
    "## Best practices\n",
    "\n",
    "* If you can't download an entire dataset (or it's not practical) use queries to select the data you need.\n",
    "\n",
    "* Read the metadata and the documentation to make sure you understand the tables, their columns, and what they mean.\n",
    "\n",
    "* Develop queries incrementally: start with something simple, test it, and add a little bit at a time.\n",
    "\n",
    "* Use ADQL features like `TOP` and `COUNT` to test before you run a query that might return a lot of data.\n",
    "\n",
    "* If you know your query will return fewer than 2000 rows, you can run it synchronously, which might complete faster.  If it might return more than 2000 rows, you should run it asynchronously.\n",
    "\n",
    "* ADQL and SQL are not case-sensitive, so you don't have to capitalize the keywords, but you should.\n",
    "\n",
    "* ADQL and SQL don't require you to break a query into multiple lines, but you should."
   ],
   "metadata": {}
  },
  {
   "cell_type": "markdown",
   "source": [
    "Jupyter notebooks can be good for developing and testing code, but they have some drawbacks.  In particular, if you run the cells out of order, you might find that variables don't have the values you expect.\n",
    "\n",
    "To mitigate these problems:\n",
    "\n",
    "* Make each section of the notebook self-contained.  Try not to use the same variable name in more than one section.\n",
    "\n",
    "* Keep notebooks short.  Look for places where you can break your analysis into phases with one notebook per phase."
   ],
   "metadata": {}
  },
  {
   "cell_type": "code",
   "execution_count": null,
   "source": [],
   "outputs": [],
   "metadata": {}
  }
 ],
 "metadata": {
  "celltoolbar": "Tags",
  "kernelspec": {
   "name": "python3",
   "display_name": "Python 3.6.4 64-bit ('base': conda)"
  },
  "language_info": {
   "codemirror_mode": {
    "name": "ipython",
    "version": 3
   },
   "file_extension": ".py",
   "mimetype": "text/x-python",
   "name": "python",
   "nbconvert_exporter": "python",
   "pygments_lexer": "ipython3",
   "version": "3.6.4"
  },
  "interpreter": {
   "hash": "97ae724bfa85b9b34df7982b8bb8c7216f435b92902d749e4263f71162bea840"
  }
 },
 "nbformat": 4,
 "nbformat_minor": 2
}